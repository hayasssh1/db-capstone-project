{
 "cells": [
  {
   "cell_type": "code",
   "execution_count": 1,
   "id": "b34ce8e7",
   "metadata": {},
   "outputs": [],
   "source": [
    "import mysql.connector as connector"
   ]
  },
  {
   "cell_type": "code",
   "execution_count": 2,
   "id": "231afd09",
   "metadata": {},
   "outputs": [],
   "source": [
    "connection = connector.connect(user='root', \n",
    "                               database='LittleLemonDB', \n",
    "                               password='jiayou77.', \n",
    "                               auth_plugin='mysql_native_password')"
   ]
  },
  {
   "cell_type": "code",
   "execution_count": 3,
   "id": "e56ca5e3",
   "metadata": {},
   "outputs": [
    {
     "name": "stdout",
     "output_type": "stream",
     "text": [
      "[('Bookings',), ('Customers',), ('Employees',), ('MenuItems',), ('Menus',), ('OrderDelivery',), ('Orders',)]\n"
     ]
    }
   ],
   "source": [
    "# create a cursor object\n",
    "cursor = connection.cursor()\n",
    "\n",
    "# create a variable to hold the query\n",
    "show_tables_query = \"\"\"SHOW TABLES\"\"\"\n",
    "\n",
    "# execute the query\n",
    "cursor.execute(show_tables_query)\n",
    "\n",
    "# print out the results\n",
    "results = cursor.fetchall()\n",
    "\n",
    "print(results)\n"
   ]
  },
  {
   "cell_type": "code",
   "execution_count": null,
   "id": "0c4cecbc",
   "metadata": {},
   "outputs": [],
   "source": [
    "select_statement = \"\"\"\n",
    "SELECT \n",
    "    CONCAT(c.FirstName, c.LastName) AS FullName,\n",
    "    c.Email,\n",
    "    c.ContactNumber\n",
    "FROM Customers AS c\n",
    "INNER JOIN Orders AS o USING(CustomerID)\n",
    "WHERE o.BillAmount > 60;\n",
    "\"\"\"\n",
    "\n",
    "cursor.execute(select_statement)\n",
    "\n",
    "results = cursor.fetchall()\n",
    "print(cursor.column_names)\n",
    "for result in results:\n",
    "    print(result)"
   ]
  }
 ],
 "metadata": {
  "kernelspec": {
   "display_name": "Python 3 (ipykernel)",
   "language": "python",
   "name": "python3"
  },
  "language_info": {
   "codemirror_mode": {
    "name": "ipython",
    "version": 3
   },
   "file_extension": ".py",
   "mimetype": "text/x-python",
   "name": "python",
   "nbconvert_exporter": "python",
   "pygments_lexer": "ipython3",
   "version": "3.11.1"
  }
 },
 "nbformat": 4,
 "nbformat_minor": 5
}
